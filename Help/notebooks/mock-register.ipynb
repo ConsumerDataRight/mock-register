{
 "cells": [
  {
   "cell_type": "markdown",
   "metadata": {},
   "source": [
    "# Table of Contents\n",
    "\n",
    "* [Environment and Configuration Setup - PowerShell](#setup-configuration)\n",
    "* [Set Variables for HTTP Request Cells](#setup-http-configuration)\n",
    "* [Data Holder APIs](#data_holder_apis)    \n",
    "    * [Get JWKS](#get_jwks)\n",
    "    * [Get Data Recipients](#get_datarecipients)\n",
    "    * [Get Data Recipients Statuses](#get_datarecipients_status)\n",
    "    * [Get Software Products Statuses](#get_sp_status)\n",
    "    * [Get Data Holder Statuses](#get_dh_status)\n",
    "    * [Get OpenId Provider Config - JWKS](#get_openid_jwks)\n",
    "    * [Get OpenId Provider Config](#get_openid)\n",
    "* [Data Recipient APIs](#data_recipient_apis)\n",
    "    * [Get OpenId Provider Config](#get_openid)\n",
    "    * [mTLS APIs]()\n",
    "        * [Get Access Token](#get_token)\n",
    "        * [Get Data Holder Brands](#get-data-holder-brands)\n",
    "        * [Get Software Statement Assertion (SSA)](#get_ssa)\n",
    "* [Register Administration APIs](#admin_apis)\n",
    "    * [Get Metadata](#get_meta_data)\n",
    "    * [Load Metadata](#load_meta_data)\n",
    "    * [Add or Update Data Recipients](#update_data_recipients)\n",
    "    * [Add or Update Data Holders](#update_data_holders)\n",
    "    * [Get Identity Provider JWKS](#get_jwks_infosec)"
   ]
  },
  {
   "cell_type": "markdown",
   "metadata": {},
   "source": [
    "## Environment and Configuration Setup <a class=\"anchor\" id=\"setup-configuration\"></a>\n",
    "\n",
    "Set the required configuration variables which are reused by all the PowerShell cells in this notebook. \n",
    "\n",
    "**Note:** This cell must be executed prior to executing any PowerShell cells in this notebook."
   ]
  },
  {
   "cell_type": "code",
   "execution_count": null,
   "metadata": {
    "dotnet_interactive": {
     "language": "pwsh"
    },
    "polyglot_notebook": {
     "kernelName": "pwsh"
    },
    "vscode": {
     "languageId": "polyglot-notebook"
    }
   },
   "outputs": [],
   "source": [
    "# Set Urls to use\n",
    "$hostname = \"localhost\"\n",
    "$mockRegisterBaseUrl = \"https://${hostname}:7000\"\n",
    "$mockRegisterSecureBaseUrl = \"https://${hostname}:7001\"\n",
    "\n",
    "# Set Data Reciepient variables\n",
    "$mockDataRecipientCertificatePath = \"..\\\\..\\\\CertificateManagement\\\\mtls\\\\client.pfx\"\n",
    "$mockDataRecipientCertificatePassword = \"#M0ckDataRecipient#\"\n",
    "$industry = \"Banking\"\n",
    "$dataRecipientBrandId = \"F3F0C40B-9DF8-491A-AF1D-81CB9AB5F021\"\n",
    "$softwareProductId = \"6F7A1B8E-8799-48A8-9011-E3920391F713\"\n",
    "$mdrClientAssertionUri = \"https://${hostname}:7006/loopback/MockDataRecipientClientAssertion?iss=$softwareProductId\"\n",
    "\n",
    "# Load the Data Reciepient certificate with password\n",
    "$certPassword = ConvertTo-SecureString -String $mockDataRecipientCertificatePassword -Force -AsPlainText\n",
    "$mockDataRecipientCert = New-Object System.Security.Cryptography.X509Certificates.X509Certificate2 -ArgumentList $mockDataRecipientCertificatePath, $certPassword"
   ]
  },
  {
   "cell_type": "markdown",
   "metadata": {},
   "source": [
    "<a class=\"anchor\" id=\"setup-http-configuration\"></a>\n",
    "Set the required variables from above PowerShell cell to make them available for HTTP Request cells.\n",
    "\n",
    "**Note:** This cell must be executed prior to executing any HTTP Request cells in this notebook."
   ]
  },
  {
   "cell_type": "code",
   "execution_count": null,
   "metadata": {
    "dotnet_interactive": {
     "language": "http"
    },
    "polyglot_notebook": {
     "kernelName": "http"
    },
    "vscode": {
     "languageId": "polyglot-notebook"
    }
   },
   "outputs": [],
   "source": [
    "#!set --value @pwsh:hostname --name hostname\n",
    "#!set --value @pwsh:mockRegisterBaseUrl --name mockRegisterBaseUrl\n",
    "#!set --value @pwsh:softwareProductId --name softwareProductId\n",
    "#!set --value @pwsh:industry --name industry"
   ]
  },
  {
   "cell_type": "markdown",
   "metadata": {},
   "source": [
    "# Data Holder APIs <a class=\"anchor\" id=\"data_holder_apis\"></a>\n",
    "\n",
    "The Mock Register's Data Holder APIs are the used by Data Holders. These APIs do not require any authentication."
   ]
  },
  {
   "cell_type": "markdown",
   "metadata": {},
   "source": [
    "## Get JWKS <a class=\"anchor\" id=\"get_jwks\"></a>\n",
    "\n",
    "\n",
    "`GET /cdr-register/v1/jwks`\n",
    "\n",
    "JWKS endpoint containing the public keys used by the CDR Register to validate the signature of issued SSAs and authenticate outbound calls to participants in the CDR."
   ]
  },
  {
   "cell_type": "code",
   "execution_count": null,
   "metadata": {
    "dotnet_interactive": {
     "language": "http"
    },
    "polyglot_notebook": {
     "kernelName": "http"
    },
    "vscode": {
     "languageId": "polyglot-notebook"
    }
   },
   "outputs": [],
   "source": [
    "GET {{mockRegisterBaseUrl}}/cdr-register/v1/jwks"
   ]
  },
  {
   "cell_type": "markdown",
   "metadata": {},
   "source": [
    "## Get Data Recipients <a class=\"anchor\" id=\"get_datarecipients\"></a>\n",
    "\n",
    "`GET /cdr-register/v1/{industry}/data-recipients`\n",
    "\n",
    "Endpoint used by participants to discover data recipients and associated brands and software products, available in the CDR ecosystem."
   ]
  },
  {
   "cell_type": "code",
   "execution_count": null,
   "metadata": {
    "dotnet_interactive": {
     "language": "http"
    },
    "polyglot_notebook": {
     "kernelName": "http"
    },
    "vscode": {
     "languageId": "polyglot-notebook"
    }
   },
   "outputs": [],
   "source": [
    "GET {{mockRegisterBaseUrl}}/cdr-register/v1/{{industry}}/data-recipients\n",
    "x-v:3"
   ]
  },
  {
   "cell_type": "markdown",
   "metadata": {},
   "source": [
    "## Get Data Recipients Statuses<a class=\"anchor\" id=\"get_datarecipients_status\"></a>\n",
    "\n",
    "`GET /cdr-register/v1/{industry}/data-recipients/status`\n",
    "\n",
    "Endpoint used by participants to discover the statuses for Data Recipients from the CDR Register."
   ]
  },
  {
   "cell_type": "code",
   "execution_count": null,
   "metadata": {
    "dotnet_interactive": {
     "language": "http"
    },
    "polyglot_notebook": {
     "kernelName": "http"
    },
    "vscode": {
     "languageId": "polyglot-notebook"
    }
   },
   "outputs": [],
   "source": [
    "GET {{mockRegisterBaseUrl}}/cdr-register/v1/{{industry}}/data-recipients/status\n",
    "x-v: 2"
   ]
  },
  {
   "cell_type": "markdown",
   "metadata": {},
   "source": [
    "## Get Software Products Statuses<a class=\"anchor\" id=\"get_sp_status\"></a>\n",
    "\n",
    "`GET /cdr-register/v1/{industry}/data-recipients/brands/software-products/status`\n",
    "\n",
    "Endpoint used by participants to discover the statuses for software products from the CDR Register."
   ]
  },
  {
   "cell_type": "code",
   "execution_count": null,
   "metadata": {
    "dotnet_interactive": {
     "language": "http"
    },
    "polyglot_notebook": {
     "kernelName": "http"
    },
    "vscode": {
     "languageId": "polyglot-notebook"
    }
   },
   "outputs": [],
   "source": [
    "GET {{mockRegisterBaseUrl}}/cdr-register/v1/{{industry}}/data-recipients/brands/software-products/status\n",
    "x-v: 2"
   ]
  },
  {
   "cell_type": "markdown",
   "metadata": {},
   "source": [
    "## Get Data Holder Statuses<a class=\"anchor\" id=\"get_dh_status\"></a>\n",
    "\n",
    "`GET /cdr-register/v1/{industry}/data-holders/status`\n",
    "\n",
    "Endpoint used by participants to discover the statuses for Data Holders from the CDR Register"
   ]
  },
  {
   "cell_type": "code",
   "execution_count": null,
   "metadata": {
    "dotnet_interactive": {
     "language": "http"
    },
    "polyglot_notebook": {
     "kernelName": "http"
    },
    "vscode": {
     "languageId": "polyglot-notebook"
    }
   },
   "outputs": [],
   "source": [
    "GET {{mockRegisterBaseUrl}}/cdr-register/v1/{{industry}}/data-holders/status\n",
    "x-v: 1"
   ]
  },
  {
   "cell_type": "markdown",
   "metadata": {},
   "source": [
    "# Data Recipient APIs <a class=\"anchor\" id=\"data_recipient_apis\"></a>\n",
    "\n",
    "The Mock Register's Data Recipient APIs are the used by Data Recipients. An access token is required to access the Get Data Holder Brands and Get Software Statement Assertion (SSA) APIs."
   ]
  },
  {
   "cell_type": "markdown",
   "metadata": {},
   "source": [
    "## Get OpenId Provider Config <a class=\"anchor\" id=\"get_openid\"></a>\n",
    "\n",
    "`GET /idp/.well-known/openid-configuration`\n",
    "\n",
    "Endpoint used by participants to discover the CDR Register OpenID configuration and obtain information needed to interact with it, including its OAuth 2.0 endpoint locations."
   ]
  },
  {
   "cell_type": "code",
   "execution_count": null,
   "metadata": {
    "dotnet_interactive": {
     "language": "http"
    },
    "polyglot_notebook": {
     "kernelName": "http"
    },
    "vscode": {
     "languageId": "polyglot-notebook"
    }
   },
   "outputs": [],
   "source": [
    "GET {{mockRegisterBaseUrl}}/idp/.well-known/openid-configuration"
   ]
  },
  {
   "cell_type": "markdown",
   "metadata": {},
   "source": [
    "## Get Access Token <a class=\"anchor\" id=\"get_token\"></a>\n",
    "\n",
    "`GET /idp/connect/token`\n",
    "\n",
    "Get an access token from the Register.  An access token is required to access the Get Data Holder Brands and Get Software Statement Assertion (SSA) APIs."
   ]
  },
  {
   "cell_type": "code",
   "execution_count": null,
   "metadata": {
    "dotnet_interactive": {
     "language": "pwsh"
    },
    "polyglot_notebook": {
     "kernelName": "pwsh"
    },
    "vscode": {
     "languageId": "polyglot-notebook"
    }
   },
   "outputs": [],
   "source": [
    "# Make the request to get mdr client assertion on loopback Url\n",
    "$response = Invoke-WebRequest -Uri $mdrClientAssertionUri -Certificate $mockDataRecipientCert\n",
    "$mdrClientAssertion = $response.Content\n",
    "\n",
    "# Define your parameters\n",
    "$parameters = @{\n",
    "    \"grant_type\" = \"client_credentials\"\n",
    "    \"client_id\" = $softwareProductId\n",
    "    \"client_assertion_type\" = \"urn:ietf:params:oauth:client-assertion-type:jwt-bearer\"\n",
    "    \"client_assertion\" = $mdrClientAssertion\n",
    "    \"scope\" = \"cdr-register:read\"\n",
    "}\n",
    "\n",
    "# Make the request\n",
    "$response = Invoke-RestMethod -Uri \"${mockRegisterSecureBaseUrl}/idp/connect/token\"  `\n",
    "                -Method Post -StatusCodeVariable responseCode `\n",
    "                -Body $parameters -ContentType \"application/x-www-form-urlencoded\" `\n",
    "                -Certificate $mockDataRecipientCert\n",
    "\n",
    "$accessToken = $response.access_token\n",
    "\n",
    "# Write the response status code and content to the console\n",
    "Write-Host \"Response Code: $responseCode\"\n",
    "Write-Host \"Response Content: $accessToken\"\n"
   ]
  },
  {
   "cell_type": "markdown",
   "metadata": {
    "vscode": {
     "languageId": "polyglot-notebook"
    }
   },
   "source": [
    "## Get Data Holder Brands <a class=\"anchor\" id=\"get-data-holder-brands\"></a>\n",
    "\n",
    "\n",
    "`GET /cdr-register/v1/{industry}/data-holders/brands`\n",
    "\n",
    "Allows Data Recipients to discover Data Holder Brands available in the CDR ecosystem.\n",
    "\n",
    "**Note:** This API requires an access token. The Get Access Token cell must be executed prior to executing this cell."
   ]
  },
  {
   "cell_type": "code",
   "execution_count": null,
   "metadata": {
    "dotnet_interactive": {
     "language": "pwsh"
    },
    "polyglot_notebook": {
     "kernelName": "pwsh"
    },
    "vscode": {
     "languageId": "polyglot-notebook"
    }
   },
   "outputs": [],
   "source": [
    "# Set the API version and Authorization headers\n",
    "$headers = @{\n",
    "    \"x-v\"           = \"2\"\n",
    "    \"Authorization\" = \"Bearer $accessToken\"\n",
    "}\n",
    "\n",
    "# Make the request\n",
    "$res = Invoke-RestMethod -Uri \"${mockRegisterSecureBaseUrl}/cdr-register/v1/all/data-holders/brands\" `\n",
    "                -Method Get -StatusCodeVariable resCode -Headers $headers -Certificate $mockDataRecipientCert `\n",
    "                | ConvertTo-Json -Depth 10\n",
    "\n",
    "# Write the response status code and content to the console\n",
    "Write-Host \"Response Code: $resCode\"\n",
    "Write-Host \"Response Content: $($res)\""
   ]
  },
  {
   "cell_type": "markdown",
   "metadata": {},
   "source": [
    "## Get Software Statement Assertion (SSA) <a class=\"anchor\" id=\"get_ssa\"></a>\n",
    "\n",
    "`GET /cdr-register/v1/{industry}/data-recipients/brands/{dataRecipientBrandId}/software-products/{softwareProductId}/ssa`\n",
    "\n",
    "Get a Software Statement Assertion (SSA) for a software product on the CDR Register to be used for Dynamic Client Registration with a Data Holder Brand.\n",
    "\n",
    "**Note:** This API requires an access token. The Get Access Token cell must be executed prior to executing this cell."
   ]
  },
  {
   "cell_type": "code",
   "execution_count": null,
   "metadata": {
    "dotnet_interactive": {
     "language": "pwsh"
    },
    "polyglot_notebook": {
     "kernelName": "pwsh"
    },
    "vscode": {
     "languageId": "polyglot-notebook"
    }
   },
   "outputs": [],
   "source": [
    "# Set the API version and Authorization headers\n",
    "$headers = @{\n",
    "    \"x-v\"           = \"3\"\n",
    "    \"Authorization\" = \"Bearer $accessToken\"\n",
    "}\n",
    "\n",
    "# Make the request\n",
    "$r = Invoke-RestMethod -Uri \"${mockRegisterSecureBaseUrl}/cdr-register/v1/all/data-recipients/brands/${dataRecipientBrandId}/software-products/${softwareProductId}/ssa\" `\n",
    "                -Method Get -StatusCodeVariable rCode -Headers $headers -Certificate $mockDataRecipientCert `\n",
    "                | ConvertTo-Json -Depth 10\n",
    "\n",
    "# Write the response status code and content to the console\n",
    "Write-Host \"Response Code: $rCode\"\n",
    "Write-Host \"Response Content: $($r)\""
   ]
  },
  {
   "cell_type": "markdown",
   "metadata": {},
   "source": [
    "# Administration APIs <a class=\"anchor\" id=\"admin_apis\"></a>\n",
    "\n",
    "The Mock Register's Administration APIs are used internally to add and update data in the Mock Register's database."
   ]
  },
  {
   "cell_type": "markdown",
   "metadata": {},
   "source": [
    "## Get Metadata <a class=\"anchor\" id=\"get_meta_data\"></a>\n",
    "\n",
    "`GET /admin/metadata`\n",
    "\n",
    "Get the metadata currently loaded in the Mock Register."
   ]
  },
  {
   "cell_type": "code",
   "execution_count": null,
   "metadata": {
    "dotnet_interactive": {
     "language": "http"
    },
    "polyglot_notebook": {
     "kernelName": "http"
    },
    "vscode": {
     "languageId": "polyglot-notebook"
    }
   },
   "outputs": [],
   "source": [
    "GET https://{{hostname}}:7006/admin/metadata"
   ]
  },
  {
   "cell_type": "markdown",
   "metadata": {},
   "source": [
    "## Load Metadata <a class=\"anchor\" id=\"load_meta_data\"></a>\n",
    "\n",
    "`POST /admin/metadata`\n",
    "\n",
    "Load new metadata in the Mock Register."
   ]
  },
  {
   "cell_type": "code",
   "execution_count": null,
   "metadata": {
    "dotnet_interactive": {
     "language": "pwsh"
    },
    "polyglot_notebook": {
     "kernelName": "pwsh"
    },
    "vscode": {
     "languageId": "polyglot-notebook"
    }
   },
   "outputs": [],
   "source": [
    "# Load Payload from file. \n",
    "# Note: This payload is loaded from an external file instead of directly using a Polyglot cell due to it's large size. Large payload are difficult to read and modify in a Polyglot cell.\n",
    "$metadataPayload = Get-Content -path .\\payloads\\metadataPayload.json -raw\n",
    "\n",
    "# Make the request\n",
    "$response = Invoke-RestMethod -Uri \"https://${hostname}:7006/admin/metadata\"  `\n",
    "                -Method Post -StatusCodeVariable responseCode `\n",
    "                -Body $metadataPayload `\n",
    "                -ContentType \"application/json\" `\n",
    "\n",
    "# Write the response status code and content to the console\n",
    "Write-Host \"Response Code: $responseCode\"     \n",
    "Write-Host \"Response Content: $response\""
   ]
  },
  {
   "cell_type": "markdown",
   "metadata": {},
   "source": [
    "## Add or Update Data Recipients <a class=\"anchor\" id=\"update_data_recipients\"></a>\n",
    "\n",
    "`POST /admin/metadata/data-recipients`\n",
    "\n",
    "Add or update a Data Recipient in the Mock Register."
   ]
  },
  {
   "cell_type": "code",
   "execution_count": null,
   "metadata": {
    "dotnet_interactive": {
     "language": "http"
    },
    "polyglot_notebook": {
     "kernelName": "http"
    },
    "vscode": {
     "languageId": "polyglot-notebook"
    }
   },
   "outputs": [],
   "source": [
    "POST https://{{hostname}}:7006/admin/metadata/data-recipients \n",
    "x-v: 1\n",
    "Content-Type: application/json\n",
    "{\n",
    "  \"legalEntityId\": \"f9bde9a1-9fef-4bd9-b7ef-877369e076e3\",\n",
    "  \"legalEntityName\": \"Mock Energy Company\",\n",
    "  \"accreditationNumber\": \"ADR000001\",\n",
    "  \"accreditationLevel\": \"UNRESTRICTED\",\n",
    "  \"logoUri\": \"https://mocksoftware/img/Companylogo.png\",\n",
    "  \"registrationNumber\": null,\n",
    "  \"registrationDate\": null,\n",
    "  \"registeredCountry\": null,\n",
    "  \"abn\": \"34241177887\",\n",
    "  \"acn\": \"241177887\",\n",
    "  \"arbn\": \"342411088\",\n",
    "  \"anzsicDivision\": null,\n",
    "  \"organisationType\": \"COMPANY\",\n",
    "  \"status\": \"ACTIVE\",\n",
    "  \"dataRecipientBrands\": [\n",
    "    {\n",
    "      \"dataRecipientBrandId\": \"d50b74cf-e992-42fd-86d4-582ac9d72dbc\",\n",
    "      \"brandName\": \"Mock Energy Tool\",\n",
    "      \"logoUri\": \"https://mocksoftware/img/brandlogo.png\",\n",
    "      \"status\": \"ACTIVE\",\n",
    "      \"softwareProducts\": [\n",
    "        {\n",
    "          \"softwareProductId\": \"4754cf30-6cc2-4a9a-a9e1-4fb8f6d42121\",\n",
    "          \"softwareProductName\": \"MyEnergyHelper\",\n",
    "          \"softwareProductDescription\": \"A product to help you manage your energy costs\",\n",
    "          \"logoUri\": \"https://mocksoftware/myenergyapp/img/logo.png\",\n",
    "          \"sectorIdentifierUri\": null,\n",
    "          \"clientUri\": \"https://mocksoftware/myenergyapp\",\n",
    "          \"tosUri\": \"https://mocksoftware/myenergyapp/terms\",\n",
    "          \"policyUri\": \"https://mocksoftware/myenergyapp/policy\",\n",
    "          \"recipientBaseUri\": \"https://mock-data-recipient:9001\",\n",
    "          \"revocationUri\": \"revocation\",\n",
    "          \"redirectUris\": [\n",
    "            \"consent/callback\",\n",
    "            \"consent/callback2\"\n",
    "          ],\n",
    "          \"jwksUri\": \"jwks\",\n",
    "          \"scope\": \"openid profile bank:accounts.basic:read bank:accounts.detail:read bank:transactions:read bank:payees:read bank:regular_payments:read common:customer.basic:read common:customer.detail:read cdr:registration cdr-register:read\",\n",
    "          \"status\": \"ACTIVE\",\n",
    "          \"certificates\": [\n",
    "            {\n",
    "              \"commonName\": \"MockDataRecipient\",\n",
    "              \"thumbprint\": \"f0e5146a51f16e236844cf0353d791f11865e405\"\n",
    "            }\n",
    "          ]\n",
    "        }\n",
    "      ]\n",
    "    }\n",
    "  ]\n",
    "}"
   ]
  },
  {
   "cell_type": "markdown",
   "metadata": {},
   "source": [
    "## Add or Update Data Holders <a class=\"anchor\" id=\"update_data_holders\"></a>\n",
    "\n",
    "`POST /admin/metadata/data-holders`\n",
    "\n",
    "Add or update a Data Holder in the Mock Register."
   ]
  },
  {
   "cell_type": "code",
   "execution_count": null,
   "metadata": {
    "dotnet_interactive": {
     "language": "http"
    },
    "polyglot_notebook": {
     "kernelName": "http"
    },
    "vscode": {
     "languageId": "polyglot-notebook"
    }
   },
   "outputs": [],
   "source": [
    "POST https://{{hostname}}:7006/admin/metadata/data-holders HTTP/1.1\n",
    "Content-Type: application/json\n",
    "x-v: 1\n",
    "{\n",
    "  \"dataHolderBrandId\": \"bb03be60-5c46-422e-a27e-aefa0015078d\",\n",
    "  \"brandName\": \"Luna\",\n",
    "  \"industries\": [\n",
    "    \"banking\"\n",
    "  ],\n",
    "  \"logoUri\": \"https://lunabrand/img/logo.png\",\n",
    "  \"status\": \"ACTIVE\",\n",
    "  \"endpointDetail\": {\n",
    "    \"version\": \"v1\",\n",
    "    \"publicBaseUri\": \"https://publicapi.lunabank\",\n",
    "    \"resourceBaseUri\": \"https://rb-api.lunabank\",\n",
    "    \"infosecBaseUri\": \"https://isb-api.lunabank\",\n",
    "    \"extensionBaseUri\": \"https://eb-api.lunabank\",\n",
    "    \"websiteUri\": \"https://ws-api.lunabank\"\n",
    "  },\n",
    "  \"authDetails\": {\n",
    "    \"registerUType\": \"SIGNED-JWT\",\n",
    "    \"jwksEndpoint\": \"https://idp.lunabank/jwks\"\n",
    "  },\n",
    "  \"legalEntity\": {\n",
    "    \"legalEntityId\": \"667407fc-dc7e-4be5-8795-5189240bcbca\",\n",
    "    \"legalEntityName\": \"Luna Bank\",\n",
    "    \"logoUri\": \"https://lunabank/img/logo.png\",\n",
    "    \"registrationNumber\": \"20032023\",\n",
    "    \"registrationDate\": \"2023-05-22\",\n",
    "    \"registeredCountry\": \"AU\",\n",
    "    \"abn\": \"12345678901\",\n",
    "    \"acn\": \"345678901\",\n",
    "    \"arbn\": \"345678901\",\n",
    "    \"anzsicDivision\": \"123\",\n",
    "    \"organisationType\": \"OTHER\",\n",
    "    \"status\": \"ACTIVE\"\n",
    "  }\n",
    "}"
   ]
  },
  {
   "cell_type": "markdown",
   "metadata": {},
   "source": [
    "## Get Identity Provider JWKS <a class=\"anchor\" id=\"get_jwks_infosec\"></a>\n",
    "\n",
    "\n",
    "`GET /idp/.well-known/openid-configuration/jwks`\n",
    "\n",
    "JWKS endpoint containing the public keys used by the CDR Register's Identity Provider to validate access tokens used in Get Data Holder Brands and Get Software Statement Assertion (SSA) requests."
   ]
  },
  {
   "cell_type": "code",
   "execution_count": null,
   "metadata": {
    "dotnet_interactive": {
     "language": "http"
    },
    "polyglot_notebook": {
     "kernelName": "http"
    },
    "vscode": {
     "languageId": "polyglot-notebook"
    }
   },
   "outputs": [],
   "source": [
    "GET {{mockRegisterBaseUrl}}/idp/.well-known/openid-configuration/jwks"
   ]
  }
 ],
 "metadata": {
  "kernelspec": {
   "display_name": ".NET (C#)",
   "language": "C#",
   "name": ".net-csharp"
  },
  "language_info": {
   "name": "python"
  },
  "polyglot_notebook": {
   "kernelInfo": {
    "defaultKernelName": "csharp",
    "items": [
     {
      "aliases": [],
      "name": "csharp"
     }
    ]
   }
  }
 },
 "nbformat": 4,
 "nbformat_minor": 2
}
